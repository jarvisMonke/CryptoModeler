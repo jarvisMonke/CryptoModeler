{
 "cells": [
  {
   "cell_type": "code",
   "execution_count": 1,
   "metadata": {},
   "outputs": [
    {
     "name": "stderr",
     "output_type": "stream",
     "text": [
      "/home/jonas/Projects/CryptoModeler/.venv/lib/python3.10/site-packages/tqdm/auto.py:21: TqdmWarning: IProgress not found. Please update jupyter and ipywidgets. See https://ipywidgets.readthedocs.io/en/stable/user_install.html\n",
      "  from .autonotebook import tqdm as notebook_tqdm\n",
      "2025-04-20 23:03:21.580603: E external/local_xla/xla/stream_executor/cuda/cuda_fft.cc:477] Unable to register cuFFT factory: Attempting to register factory for plugin cuFFT when one has already been registered\n",
      "WARNING: All log messages before absl::InitializeLog() is called are written to STDERR\n",
      "E0000 00:00:1745211801.691523   58161 cuda_dnn.cc:8310] Unable to register cuDNN factory: Attempting to register factory for plugin cuDNN when one has already been registered\n",
      "E0000 00:00:1745211801.726404   58161 cuda_blas.cc:1418] Unable to register cuBLAS factory: Attempting to register factory for plugin cuBLAS when one has already been registered\n",
      "2025-04-20 23:03:22.011167: I tensorflow/core/platform/cpu_feature_guard.cc:210] This TensorFlow binary is optimized to use available CPU instructions in performance-critical operations.\n",
      "To enable the following instructions: AVX2 FMA, in other operations, rebuild TensorFlow with the appropriate compiler flags.\n"
     ]
    }
   ],
   "source": [
    "import os\n",
    "import sys\n",
    "import random\n",
    "import numpy as np\n",
    "import optuna\n",
    "import joblib\n",
    "from importlib import reload  # Import the reload function\n",
    "from sklearn.model_selection import train_test_split\n",
    "from sklearn.metrics import mean_squared_error\n",
    "\n",
    "sys.path.append(os.path.abspath(os.path.join(os.getcwd(), '..')))\n",
    "import utils.helpers as hp\n",
    "import utils.preprocess as pp\n",
    "import utils.modeling as md  \n",
    "import utils.tuning as tn\n",
    "import utils.evaluation as ev\n",
    "\n",
    "reload(hp)\n",
    "reload(pp)\n",
    "reload(md)\n",
    "reload(tn)\n",
    "reload(ev)\n",
    "%load_ext autoreload\n",
    "%autoreload 1"
   ]
  },
  {
   "cell_type": "code",
   "execution_count": 2,
   "metadata": {},
   "outputs": [
    {
     "name": "stdout",
     "output_type": "stream",
     "text": [
      "Fetched data from 2019-09-23 08:30:00 to 2019-09-28 17:30:00\n",
      "Fetched data from 2019-09-28 17:45:00 to 2019-10-03 22:30:00\n",
      "Fetched data from 2019-10-03 22:45:00 to 2019-10-09 03:30:00\n",
      "Fetched data from 2019-10-09 03:45:00 to 2019-10-14 08:30:00\n",
      "Fetched data from 2019-10-14 08:45:00 to 2019-10-19 13:30:00\n",
      "Fetched data from 2019-10-19 13:45:00 to 2019-10-24 18:30:00\n",
      "Fetched data from 2019-10-24 18:45:00 to 2019-10-29 23:30:00\n",
      "Fetched data from 2019-10-29 23:45:00 to 2019-11-04 04:30:00\n",
      "Fetched data from 2019-11-04 04:45:00 to 2019-11-09 09:30:00\n",
      "Fetched data from 2019-11-09 09:45:00 to 2019-11-14 14:30:00\n",
      "Fetched data from 2019-11-14 14:45:00 to 2019-11-19 19:30:00\n",
      "Fetched data from 2019-11-19 19:45:00 to 2019-11-25 00:30:00\n",
      "Fetched data from 2019-11-25 00:45:00 to 2019-11-30 05:30:00\n",
      "Fetched data from 2019-11-30 05:45:00 to 2019-12-05 10:30:00\n",
      "Fetched data from 2019-12-05 10:45:00 to 2019-12-10 15:30:00\n",
      "Fetched data from 2019-12-10 15:45:00 to 2019-12-15 20:30:00\n",
      "Fetched data from 2019-12-15 20:45:00 to 2019-12-21 01:30:00\n",
      "Fetched data from 2019-12-21 01:45:00 to 2019-12-26 06:30:00\n",
      "Fetched data from 2019-12-26 06:45:00 to 2019-12-31 11:30:00\n",
      "Fetched data from 2019-12-31 11:45:00 to 2020-01-05 16:30:00\n",
      "Fetched data from 2020-01-05 16:45:00 to 2020-01-10 21:30:00\n",
      "Fetched data from 2020-01-10 21:45:00 to 2020-01-16 02:30:00\n",
      "Fetched data from 2020-01-16 02:45:00 to 2020-01-21 07:30:00\n",
      "Fetched data from 2020-01-21 07:45:00 to 2020-01-26 12:30:00\n",
      "Fetched data from 2020-01-26 12:45:00 to 2020-01-31 17:30:00\n",
      "Fetched data from 2020-01-31 17:45:00 to 2020-02-05 22:30:00\n",
      "Fetched data from 2020-02-05 22:45:00 to 2020-02-11 03:30:00\n",
      "Fetched data from 2020-02-11 03:45:00 to 2020-02-16 08:30:00\n",
      "Fetched data from 2020-02-16 08:45:00 to 2020-02-21 13:30:00\n",
      "Fetched data from 2020-02-21 13:45:00 to 2020-02-26 18:30:00\n",
      "Fetched data from 2020-02-26 18:45:00 to 2020-03-02 23:30:00\n",
      "Fetched data from 2020-03-02 23:45:00 to 2020-03-08 04:30:00\n",
      "Fetched data from 2020-03-08 04:45:00 to 2020-03-13 09:30:00\n",
      "Fetched data from 2020-03-13 09:45:00 to 2020-03-18 14:30:00\n",
      "Fetched data from 2020-03-18 14:45:00 to 2020-03-23 19:30:00\n",
      "Fetched data from 2020-03-23 19:45:00 to 2020-03-29 00:30:00\n",
      "Fetched data from 2020-03-29 00:45:00 to 2020-04-03 05:30:00\n",
      "Fetched data from 2020-04-03 05:45:00 to 2020-04-08 10:30:00\n",
      "Fetched data from 2020-04-08 10:45:00 to 2020-04-13 15:30:00\n",
      "Fetched data from 2020-04-13 15:45:00 to 2020-04-18 20:30:00\n",
      "Fetched data from 2020-04-18 20:45:00 to 2020-04-24 01:30:00\n",
      "Fetched data from 2020-04-24 01:45:00 to 2020-04-29 15:30:00\n",
      "Fetched data from 2020-04-29 15:45:00 to 2020-05-04 20:30:00\n",
      "Fetched data from 2020-05-04 20:45:00 to 2020-05-10 01:30:00\n",
      "Fetched data from 2020-05-10 01:45:00 to 2020-05-15 06:30:00\n",
      "Fetched data from 2020-05-15 06:45:00 to 2020-05-20 11:30:00\n",
      "Fetched data from 2020-05-20 11:45:00 to 2020-05-25 16:30:00\n",
      "Fetched data from 2020-05-25 16:45:00 to 2020-05-30 21:30:00\n",
      "Fetched data from 2020-05-30 21:45:00 to 2020-06-05 02:30:00\n",
      "Fetched data from 2020-06-05 02:45:00 to 2020-06-10 07:30:00\n",
      "Fetched data from 2020-06-10 07:45:00 to 2020-06-15 12:30:00\n",
      "Fetched data from 2020-06-15 12:45:00 to 2020-06-20 17:30:00\n",
      "Fetched data from 2020-06-20 17:45:00 to 2020-06-25 22:30:00\n",
      "Fetched data from 2020-06-25 22:45:00 to 2020-07-01 03:30:00\n",
      "Fetched data from 2020-07-01 03:45:00 to 2020-07-06 08:30:00\n",
      "Fetched data from 2020-07-06 08:45:00 to 2020-07-11 23:30:00\n",
      "Fetched data from 2020-07-11 23:45:00 to 2020-07-17 04:30:00\n",
      "Fetched data from 2020-07-17 04:45:00 to 2020-07-22 09:30:00\n",
      "Fetched data from 2020-07-22 09:45:00 to 2020-07-27 14:30:00\n",
      "Fetched data from 2020-07-27 14:45:00 to 2020-08-01 19:30:00\n",
      "Fetched data from 2020-08-01 19:45:00 to 2020-08-07 00:30:00\n",
      "Fetched data from 2020-08-07 00:45:00 to 2020-08-12 11:45:00\n",
      "Fetched data from 2020-08-12 12:00:00 to 2020-08-17 16:45:00\n",
      "Fetched data from 2020-08-17 17:00:00 to 2020-08-22 21:45:00\n",
      "Fetched data from 2020-08-22 22:00:00 to 2020-08-28 02:45:00\n",
      "Fetched data from 2020-08-28 03:00:00 to 2020-09-02 07:45:00\n",
      "Fetched data from 2020-09-02 08:00:00 to 2020-09-07 12:45:00\n",
      "Fetched data from 2020-09-07 13:00:00 to 2020-09-12 17:45:00\n",
      "Fetched data from 2020-09-12 18:00:00 to 2020-09-17 22:45:00\n",
      "Fetched data from 2020-09-17 23:00:00 to 2020-09-23 03:45:00\n",
      "Fetched data from 2020-09-23 04:00:00 to 2020-09-28 08:45:00\n",
      "Fetched data from 2020-09-28 09:00:00 to 2020-10-03 13:45:00\n",
      "Fetched data from 2020-10-03 14:00:00 to 2020-10-08 18:45:00\n",
      "Fetched data from 2020-10-08 19:00:00 to 2020-10-13 23:45:00\n",
      "Fetched data from 2020-10-14 00:00:00 to 2020-10-19 04:45:00\n",
      "Fetched data from 2020-10-19 05:00:00 to 2020-10-24 09:45:00\n",
      "Fetched data from 2020-10-24 10:00:00 to 2020-10-29 14:45:00\n",
      "Fetched data from 2020-10-29 15:00:00 to 2020-11-03 19:45:00\n",
      "Fetched data from 2020-11-03 20:00:00 to 2020-11-09 00:45:00\n",
      "Fetched data from 2020-11-09 01:00:00 to 2020-11-14 05:45:00\n",
      "Fetched data from 2020-11-14 06:00:00 to 2020-11-19 10:45:00\n",
      "Fetched data from 2020-11-19 11:00:00 to 2020-11-24 15:45:00\n",
      "Fetched data from 2020-11-24 16:00:00 to 2020-11-29 20:45:00\n",
      "Fetched data from 2020-11-29 21:00:00 to 2020-12-05 01:45:00\n",
      "Fetched data from 2020-12-05 02:00:00 to 2020-12-10 06:45:00\n",
      "Fetched data from 2020-12-10 07:00:00 to 2020-12-15 11:45:00\n",
      "Fetched data from 2020-12-15 12:00:00 to 2020-12-20 16:45:00\n",
      "Fetched data from 2020-12-20 17:00:00 to 2020-12-25 21:45:00\n",
      "Fetched data from 2020-12-25 22:00:00 to 2020-12-31 02:45:00\n",
      "Fetched data from 2020-12-31 03:00:00 to 2021-01-05 07:45:00\n",
      "Fetched data from 2021-01-05 08:00:00 to 2021-01-10 12:45:00\n",
      "Fetched data from 2021-01-10 13:00:00 to 2021-01-15 21:15:00\n",
      "Fetched data from 2021-01-15 21:30:00 to 2021-01-21 02:15:00\n",
      "Fetched data from 2021-01-21 02:30:00 to 2021-01-26 07:15:00\n",
      "Fetched data from 2021-01-26 07:30:00 to 2021-01-31 12:15:00\n",
      "Fetched data from 2021-01-31 12:30:00 to 2021-02-05 17:15:00\n",
      "Fetched data from 2021-02-05 17:30:00 to 2021-02-10 22:15:00\n",
      "Fetched data from 2021-02-10 22:30:00 to 2021-02-16 03:15:00\n",
      "Fetched data from 2021-02-16 03:30:00 to 2021-02-21 08:15:00\n",
      "Fetched data from 2021-02-21 08:30:00 to 2021-02-26 13:15:00\n",
      "Fetched data from 2021-02-26 13:30:00 to 2021-03-03 18:15:00\n",
      "Fetched data from 2021-03-03 18:30:00 to 2021-03-08 23:15:00\n",
      "Fetched data from 2021-03-08 23:30:00 to 2021-03-14 04:15:00\n",
      "Fetched data from 2021-03-14 04:30:00 to 2021-03-19 09:15:00\n",
      "Fetched data from 2021-03-19 09:30:00 to 2021-03-24 14:15:00\n",
      "Fetched data from 2021-03-24 14:30:00 to 2021-03-29 19:15:00\n",
      "Fetched data from 2021-03-29 19:30:00 to 2021-04-04 00:15:00\n",
      "Fetched data from 2021-04-04 00:30:00 to 2021-04-09 05:15:00\n",
      "Fetched data from 2021-04-09 05:30:00 to 2021-04-14 10:15:00\n",
      "Fetched data from 2021-04-14 10:30:00 to 2021-04-19 15:15:00\n",
      "Fetched data from 2021-04-19 15:30:00 to 2021-04-24 20:15:00\n",
      "Fetched data from 2021-04-24 20:30:00 to 2021-04-30 01:15:00\n",
      "Fetched data from 2021-04-30 01:30:00 to 2021-05-05 06:15:00\n",
      "Fetched data from 2021-05-05 06:30:00 to 2021-05-10 11:15:00\n",
      "Fetched data from 2021-05-10 11:30:00 to 2021-05-15 16:15:00\n",
      "Fetched data from 2021-05-15 16:30:00 to 2021-05-20 21:15:00\n",
      "Fetched data from 2021-05-20 21:30:00 to 2021-05-26 02:15:00\n",
      "Fetched data from 2021-05-26 02:30:00 to 2021-05-31 07:15:00\n",
      "Fetched data from 2021-05-31 07:30:00 to 2021-06-05 12:15:00\n",
      "Fetched data from 2021-06-05 12:30:00 to 2021-06-10 17:15:00\n",
      "Fetched data from 2021-06-10 17:30:00 to 2021-06-15 22:15:00\n",
      "Fetched data from 2021-06-15 22:30:00 to 2021-06-21 03:15:00\n",
      "Fetched data from 2021-06-21 03:30:00 to 2021-06-26 16:00:00\n",
      "Fetched data from 2021-06-26 16:15:00 to 2021-07-01 21:00:00\n",
      "Fetched data from 2021-07-01 21:15:00 to 2021-07-07 02:00:00\n",
      "Fetched data from 2021-07-07 02:15:00 to 2021-07-12 07:00:00\n",
      "Fetched data from 2021-07-12 07:15:00 to 2021-07-17 12:00:00\n",
      "Fetched data from 2021-07-17 12:15:00 to 2021-07-22 17:00:00\n",
      "Fetched data from 2021-07-22 17:15:00 to 2021-07-27 22:00:00\n",
      "Fetched data from 2021-07-27 22:15:00 to 2021-08-02 03:00:00\n",
      "Fetched data from 2021-08-02 03:15:00 to 2021-08-07 08:00:00\n",
      "Fetched data from 2021-08-07 08:15:00 to 2021-08-12 13:00:00\n",
      "Fetched data from 2021-08-12 13:15:00 to 2021-08-17 18:00:00\n",
      "Fetched data from 2021-08-17 18:15:00 to 2021-08-22 23:00:00\n",
      "Fetched data from 2021-08-22 23:15:00 to 2021-08-28 04:00:00\n",
      "Fetched data from 2021-08-28 04:15:00 to 2021-09-02 09:00:00\n",
      "Fetched data from 2021-09-02 09:15:00 to 2021-09-07 14:00:00\n",
      "Fetched data from 2021-09-07 14:15:00 to 2021-09-12 19:00:00\n",
      "Fetched data from 2021-09-12 19:15:00 to 2021-09-18 00:00:00\n",
      "Fetched data from 2021-09-18 00:15:00 to 2021-09-23 05:00:00\n",
      "Fetched data from 2021-09-23 05:15:00 to 2021-09-28 10:00:00\n",
      "Fetched data from 2021-09-28 10:15:00 to 2021-10-03 15:00:00\n",
      "Fetched data from 2021-10-03 15:15:00 to 2021-10-08 20:00:00\n",
      "Fetched data from 2021-10-08 20:15:00 to 2021-10-14 01:00:00\n",
      "Fetched data from 2021-10-14 01:15:00 to 2021-10-19 06:00:00\n",
      "Fetched data from 2021-10-19 06:15:00 to 2021-10-24 11:00:00\n",
      "Fetched data from 2021-10-24 11:15:00 to 2021-10-29 16:00:00\n",
      "Fetched data from 2021-10-29 16:15:00 to 2021-11-03 21:00:00\n",
      "Fetched data from 2021-11-03 21:15:00 to 2021-11-09 02:00:00\n",
      "Fetched data from 2021-11-09 02:15:00 to 2021-11-14 07:00:00\n",
      "Fetched data from 2021-11-14 07:15:00 to 2021-11-19 12:00:00\n",
      "Fetched data from 2021-11-19 12:15:00 to 2021-11-24 17:00:00\n",
      "Fetched data from 2021-11-24 17:15:00 to 2021-11-29 22:00:00\n",
      "Fetched data from 2021-11-29 22:15:00 to 2021-12-05 03:00:00\n",
      "Fetched data from 2021-12-05 03:15:00 to 2021-12-10 08:00:00\n",
      "Fetched data from 2021-12-10 08:15:00 to 2021-12-15 13:00:00\n",
      "Fetched data from 2021-12-15 13:15:00 to 2021-12-20 18:00:00\n",
      "Fetched data from 2021-12-20 18:15:00 to 2021-12-25 23:00:00\n",
      "Fetched data from 2021-12-25 23:15:00 to 2021-12-31 04:00:00\n",
      "Fetched data from 2021-12-31 04:15:00 to 2022-01-05 09:00:00\n",
      "Fetched data from 2022-01-05 09:15:00 to 2022-01-10 14:00:00\n",
      "Fetched data from 2022-01-10 14:15:00 to 2022-01-15 19:00:00\n",
      "Fetched data from 2022-01-15 19:15:00 to 2022-01-21 00:00:00\n",
      "Fetched data from 2022-01-21 00:15:00 to 2022-01-26 05:00:00\n",
      "Fetched data from 2022-01-26 05:15:00 to 2022-01-31 10:00:00\n",
      "Fetched data from 2022-01-31 10:15:00 to 2022-02-05 15:00:00\n",
      "Fetched data from 2022-02-05 15:15:00 to 2022-02-10 20:00:00\n",
      "Fetched data from 2022-02-10 20:15:00 to 2022-02-16 01:00:00\n",
      "Fetched data from 2022-02-16 01:15:00 to 2022-02-21 06:00:00\n",
      "Fetched data from 2022-02-21 06:15:00 to 2022-02-26 11:15:00\n",
      "Fetched data from 2022-02-26 11:30:00 to 2022-03-03 16:15:00\n",
      "Fetched data from 2022-03-03 16:30:00 to 2022-03-08 21:15:00\n",
      "Fetched data from 2022-03-08 21:30:00 to 2022-03-14 02:15:00\n",
      "Fetched data from 2022-03-14 02:30:00 to 2022-03-19 07:15:00\n",
      "Fetched data from 2022-03-19 07:30:00 to 2022-03-24 12:15:00\n",
      "Fetched data from 2022-03-24 12:30:00 to 2022-03-29 17:15:00\n",
      "Fetched data from 2022-03-29 17:30:00 to 2022-04-03 22:15:00\n",
      "Fetched data from 2022-04-03 22:30:00 to 2022-04-09 03:15:00\n",
      "Fetched data from 2022-04-09 03:30:00 to 2022-04-14 08:15:00\n",
      "Fetched data from 2022-04-14 08:30:00 to 2022-04-19 13:15:00\n",
      "Fetched data from 2022-04-19 13:30:00 to 2022-04-24 18:15:00\n",
      "Fetched data from 2022-04-24 18:30:00 to 2022-04-29 23:15:00\n",
      "Fetched data from 2022-04-29 23:30:00 to 2022-05-05 04:15:00\n",
      "Fetched data from 2022-05-05 04:30:00 to 2022-05-10 09:15:00\n",
      "Fetched data from 2022-05-10 09:30:00 to 2022-05-15 14:15:00\n",
      "Fetched data from 2022-05-15 14:30:00 to 2022-05-20 19:15:00\n",
      "Fetched data from 2022-05-20 19:30:00 to 2022-05-26 00:15:00\n",
      "Fetched data from 2022-05-26 00:30:00 to 2022-05-31 05:15:00\n",
      "Fetched data from 2022-05-31 05:30:00 to 2022-06-05 10:15:00\n",
      "Fetched data from 2022-06-05 10:30:00 to 2022-06-10 15:15:00\n",
      "Fetched data from 2022-06-10 15:30:00 to 2022-06-15 20:15:00\n",
      "Fetched data from 2022-06-15 20:30:00 to 2022-06-21 01:15:00\n",
      "Fetched data from 2022-06-21 01:30:00 to 2022-06-26 06:15:00\n",
      "Fetched data from 2022-06-26 06:30:00 to 2022-07-01 11:15:00\n",
      "Fetched data from 2022-07-01 11:30:00 to 2022-07-06 16:15:00\n",
      "Fetched data from 2022-07-06 16:30:00 to 2022-07-11 21:15:00\n",
      "Fetched data from 2022-07-11 21:30:00 to 2022-07-17 02:15:00\n",
      "Fetched data from 2022-07-17 02:30:00 to 2022-07-22 07:15:00\n",
      "Fetched data from 2022-07-22 07:30:00 to 2022-07-27 12:15:00\n",
      "Fetched data from 2022-07-27 12:30:00 to 2022-08-01 17:15:00\n",
      "Fetched data from 2022-08-01 17:30:00 to 2022-08-06 22:15:00\n",
      "Fetched data from 2022-08-06 22:30:00 to 2022-08-12 03:15:00\n",
      "Fetched data from 2022-08-12 03:30:00 to 2022-08-17 08:15:00\n",
      "Fetched data from 2022-08-17 08:30:00 to 2022-08-22 13:15:00\n",
      "Fetched data from 2022-08-22 13:30:00 to 2022-08-27 18:15:00\n",
      "Fetched data from 2022-08-27 18:30:00 to 2022-09-01 23:15:00\n",
      "Fetched data from 2022-09-01 23:30:00 to 2022-09-07 04:15:00\n",
      "Fetched data from 2022-09-07 04:30:00 to 2022-09-12 09:15:00\n",
      "Fetched data from 2022-09-12 09:30:00 to 2022-09-17 14:15:00\n",
      "Fetched data from 2022-09-17 14:30:00 to 2022-09-22 19:15:00\n",
      "Fetched data from 2022-09-22 19:30:00 to 2022-09-28 00:15:00\n",
      "Fetched data from 2022-09-28 00:30:00 to 2022-10-03 05:15:00\n",
      "Fetched data from 2022-10-03 05:30:00 to 2022-10-08 10:15:00\n",
      "Fetched data from 2022-10-08 10:30:00 to 2022-10-13 15:15:00\n",
      "Fetched data from 2022-10-13 15:30:00 to 2022-10-18 20:15:00\n",
      "Fetched data from 2022-10-18 20:30:00 to 2022-10-24 01:15:00\n",
      "Fetched data from 2022-10-24 01:30:00 to 2022-10-29 06:15:00\n",
      "Fetched data from 2022-10-29 06:30:00 to 2022-11-03 11:15:00\n",
      "Fetched data from 2022-11-03 11:30:00 to 2022-11-08 16:15:00\n",
      "Fetched data from 2022-11-08 16:30:00 to 2022-11-13 21:15:00\n",
      "Fetched data from 2022-11-13 21:30:00 to 2022-11-19 02:15:00\n",
      "Fetched data from 2022-11-19 02:30:00 to 2022-11-24 07:15:00\n",
      "Fetched data from 2022-11-24 07:30:00 to 2022-11-29 12:15:00\n",
      "Fetched data from 2022-11-29 12:30:00 to 2022-12-04 17:15:00\n",
      "Fetched data from 2022-12-04 17:30:00 to 2022-12-09 22:15:00\n",
      "Fetched data from 2022-12-09 22:30:00 to 2022-12-15 03:15:00\n",
      "Fetched data from 2022-12-15 03:30:00 to 2022-12-20 08:15:00\n",
      "Fetched data from 2022-12-20 08:30:00 to 2022-12-25 13:15:00\n",
      "Fetched data from 2022-12-25 13:30:00 to 2022-12-30 18:15:00\n",
      "Fetched data from 2022-12-30 18:30:00 to 2023-01-04 23:15:00\n",
      "Fetched data from 2023-01-04 23:30:00 to 2023-01-10 04:15:00\n",
      "Fetched data from 2023-01-10 04:30:00 to 2023-01-15 09:15:00\n",
      "Fetched data from 2023-01-15 09:30:00 to 2023-01-20 14:15:00\n",
      "Fetched data from 2023-01-20 14:30:00 to 2023-01-25 19:15:00\n",
      "Fetched data from 2023-01-25 19:30:00 to 2023-01-31 00:15:00\n",
      "Fetched data from 2023-01-31 00:30:00 to 2023-02-05 05:15:00\n",
      "Fetched data from 2023-02-05 05:30:00 to 2023-02-10 17:15:00\n",
      "Fetched data from 2023-02-10 17:30:00 to 2023-02-15 22:15:00\n",
      "Fetched data from 2023-02-15 22:30:00 to 2023-02-21 03:15:00\n",
      "Fetched data from 2023-02-21 03:30:00 to 2023-02-26 08:15:00\n",
      "Fetched data from 2023-02-26 08:30:00 to 2023-03-03 13:15:00\n",
      "Fetched data from 2023-03-03 13:30:00 to 2023-03-08 18:15:00\n",
      "Fetched data from 2023-03-08 18:30:00 to 2023-03-13 23:15:00\n",
      "Fetched data from 2023-03-13 23:30:00 to 2023-03-19 04:15:00\n",
      "Fetched data from 2023-03-19 04:30:00 to 2023-03-24 09:15:00\n",
      "Fetched data from 2023-03-24 09:30:00 to 2023-03-29 14:15:00\n",
      "Fetched data from 2023-03-29 14:30:00 to 2023-04-03 19:15:00\n",
      "Fetched data from 2023-04-03 19:30:00 to 2023-04-09 00:15:00\n",
      "Fetched data from 2023-04-09 00:30:00 to 2023-04-14 05:15:00\n",
      "Fetched data from 2023-04-14 05:30:00 to 2023-04-19 10:15:00\n",
      "Fetched data from 2023-04-19 10:30:00 to 2023-04-24 15:15:00\n",
      "Fetched data from 2023-04-24 15:30:00 to 2023-04-29 20:15:00\n",
      "Fetched data from 2023-04-29 20:30:00 to 2023-05-05 01:15:00\n",
      "Fetched data from 2023-05-05 01:30:00 to 2023-05-10 06:15:00\n",
      "Fetched data from 2023-05-10 06:30:00 to 2023-05-15 11:15:00\n",
      "Fetched data from 2023-05-15 11:30:00 to 2023-05-20 16:15:00\n",
      "Fetched data from 2023-05-20 16:30:00 to 2023-05-25 21:15:00\n",
      "Fetched data from 2023-05-25 21:30:00 to 2023-05-31 02:15:00\n",
      "Fetched data from 2023-05-31 02:30:00 to 2023-06-05 07:15:00\n",
      "Fetched data from 2023-06-05 07:30:00 to 2023-06-10 12:15:00\n",
      "Fetched data from 2023-06-10 12:30:00 to 2023-06-15 17:15:00\n",
      "Fetched data from 2023-06-15 17:30:00 to 2023-06-20 22:15:00\n",
      "Fetched data from 2023-06-20 22:30:00 to 2023-06-26 03:15:00\n",
      "Fetched data from 2023-06-26 03:30:00 to 2023-07-01 08:15:00\n",
      "Fetched data from 2023-07-01 08:30:00 to 2023-07-06 13:15:00\n",
      "Fetched data from 2023-07-06 13:30:00 to 2023-07-11 18:15:00\n",
      "Fetched data from 2023-07-11 18:30:00 to 2023-07-16 23:15:00\n",
      "Fetched data from 2023-07-16 23:30:00 to 2023-07-22 04:15:00\n",
      "Fetched data from 2023-07-22 04:30:00 to 2023-07-27 09:15:00\n",
      "Fetched data from 2023-07-27 09:30:00 to 2023-08-01 14:15:00\n",
      "Fetched data from 2023-08-01 14:30:00 to 2023-08-06 19:15:00\n",
      "Fetched data from 2023-08-06 19:30:00 to 2023-08-12 00:15:00\n",
      "Fetched data from 2023-08-12 00:30:00 to 2023-08-17 05:15:00\n",
      "Fetched data from 2023-08-17 05:30:00 to 2023-08-22 10:15:00\n",
      "Fetched data from 2023-08-22 10:30:00 to 2023-08-27 15:15:00\n",
      "Fetched data from 2023-08-27 15:30:00 to 2023-09-01 20:15:00\n",
      "Fetched data from 2023-09-01 20:30:00 to 2023-09-07 01:15:00\n",
      "Fetched data from 2023-09-07 01:30:00 to 2023-09-12 06:15:00\n",
      "Fetched data from 2023-09-12 06:30:00 to 2023-09-17 11:15:00\n",
      "Fetched data from 2023-09-17 11:30:00 to 2023-09-22 16:15:00\n",
      "Fetched data from 2023-09-22 16:30:00 to 2023-09-27 21:15:00\n",
      "Fetched data from 2023-09-27 21:30:00 to 2023-10-03 02:15:00\n",
      "Fetched data from 2023-10-03 02:30:00 to 2023-10-08 07:15:00\n",
      "Fetched data from 2023-10-08 07:30:00 to 2023-10-13 12:15:00\n",
      "Fetched data from 2023-10-13 12:30:00 to 2023-10-18 17:15:00\n",
      "Fetched data from 2023-10-18 17:30:00 to 2023-10-23 22:15:00\n",
      "Fetched data from 2023-10-23 22:30:00 to 2023-10-29 03:15:00\n",
      "Fetched data from 2023-10-29 03:30:00 to 2023-11-03 08:15:00\n",
      "Fetched data from 2023-11-03 08:30:00 to 2023-11-08 13:15:00\n",
      "Fetched data from 2023-11-08 13:30:00 to 2023-11-13 18:15:00\n",
      "Fetched data from 2023-11-13 18:30:00 to 2023-11-18 23:15:00\n",
      "Fetched data from 2023-11-18 23:30:00 to 2023-11-24 04:15:00\n",
      "Fetched data from 2023-11-24 04:30:00 to 2023-11-29 09:15:00\n",
      "Fetched data from 2023-11-29 09:30:00 to 2023-12-04 14:15:00\n",
      "Fetched data from 2023-12-04 14:30:00 to 2023-12-09 19:15:00\n",
      "Fetched data from 2023-12-09 19:30:00 to 2023-12-15 00:15:00\n",
      "Fetched data from 2023-12-15 00:30:00 to 2023-12-20 05:15:00\n",
      "Fetched data from 2023-12-20 05:30:00 to 2023-12-25 10:15:00\n",
      "Fetched data from 2023-12-25 10:30:00 to 2023-12-30 15:15:00\n",
      "Fetched data from 2023-12-30 15:30:00 to 2024-01-04 20:15:00\n",
      "Fetched data from 2024-01-04 20:30:00 to 2024-01-10 01:15:00\n",
      "Fetched data from 2024-01-10 01:30:00 to 2024-01-15 06:15:00\n",
      "Fetched data from 2024-01-15 06:30:00 to 2024-01-20 11:15:00\n",
      "Fetched data from 2024-01-20 11:30:00 to 2024-01-25 16:15:00\n",
      "Fetched data from 2024-01-25 16:30:00 to 2024-01-30 21:15:00\n",
      "Fetched data from 2024-01-30 21:30:00 to 2024-02-05 02:15:00\n",
      "Fetched data from 2024-02-05 02:30:00 to 2024-02-10 07:15:00\n",
      "Fetched data from 2024-02-10 07:30:00 to 2024-02-15 12:15:00\n",
      "Fetched data from 2024-02-15 12:30:00 to 2024-02-20 17:15:00\n",
      "Fetched data from 2024-02-20 17:30:00 to 2024-02-25 22:15:00\n",
      "Fetched data from 2024-02-25 22:30:00 to 2024-03-02 03:15:00\n",
      "Fetched data from 2024-03-02 03:30:00 to 2024-03-07 08:15:00\n",
      "Fetched data from 2024-03-07 08:30:00 to 2024-03-12 13:15:00\n",
      "Fetched data from 2024-03-12 13:30:00 to 2024-03-17 18:15:00\n",
      "Fetched data from 2024-03-17 18:30:00 to 2024-03-22 23:15:00\n",
      "Fetched data from 2024-03-22 23:30:00 to 2024-03-28 04:15:00\n",
      "Fetched data from 2024-03-28 04:30:00 to 2024-04-02 09:15:00\n",
      "Fetched data from 2024-04-02 09:30:00 to 2024-04-07 14:15:00\n",
      "Fetched data from 2024-04-07 14:30:00 to 2024-04-12 19:15:00\n",
      "Fetched data from 2024-04-12 19:30:00 to 2024-04-18 00:15:00\n",
      "Fetched data from 2024-04-18 00:30:00 to 2024-04-23 05:15:00\n",
      "Fetched data from 2024-04-23 05:30:00 to 2024-04-28 10:15:00\n",
      "Fetched data from 2024-04-28 10:30:00 to 2024-05-03 15:15:00\n",
      "Fetched data from 2024-05-03 15:30:00 to 2024-05-08 20:15:00\n",
      "Fetched data from 2024-05-08 20:30:00 to 2024-05-14 01:15:00\n",
      "Fetched data from 2024-05-14 01:30:00 to 2024-05-19 06:15:00\n",
      "Fetched data from 2024-05-19 06:30:00 to 2024-05-24 11:15:00\n",
      "Fetched data from 2024-05-24 11:30:00 to 2024-05-29 16:15:00\n",
      "Fetched data from 2024-05-29 16:30:00 to 2024-06-03 21:15:00\n",
      "Fetched data from 2024-06-03 21:30:00 to 2024-06-09 02:15:00\n",
      "Fetched data from 2024-06-09 02:30:00 to 2024-06-14 07:15:00\n",
      "Fetched data from 2024-06-14 07:30:00 to 2024-06-19 12:15:00\n",
      "Fetched data from 2024-06-19 12:30:00 to 2024-06-24 17:15:00\n",
      "Fetched data from 2024-06-24 17:30:00 to 2024-06-29 22:15:00\n",
      "Fetched data from 2024-06-29 22:30:00 to 2024-07-05 03:15:00\n",
      "Fetched data from 2024-07-05 03:30:00 to 2024-07-10 08:15:00\n",
      "Fetched data from 2024-07-10 08:30:00 to 2024-07-15 13:15:00\n",
      "Fetched data from 2024-07-15 13:30:00 to 2024-07-20 18:15:00\n",
      "Fetched data from 2024-07-20 18:30:00 to 2024-07-25 23:15:00\n",
      "Fetched data from 2024-07-25 23:30:00 to 2024-07-31 04:15:00\n",
      "Fetched data from 2024-07-31 04:30:00 to 2024-08-05 09:15:00\n",
      "Fetched data from 2024-08-05 09:30:00 to 2024-08-10 14:15:00\n",
      "Fetched data from 2024-08-10 14:30:00 to 2024-08-15 19:15:00\n",
      "Fetched data from 2024-08-15 19:30:00 to 2024-08-21 00:15:00\n",
      "Fetched data from 2024-08-21 00:30:00 to 2024-08-26 05:15:00\n",
      "Fetched data from 2024-08-26 05:30:00 to 2024-08-31 10:15:00\n",
      "Fetched data from 2024-08-31 10:30:00 to 2024-09-05 15:15:00\n",
      "Fetched data from 2024-09-05 15:30:00 to 2024-09-10 20:15:00\n",
      "Fetched data from 2024-09-10 20:30:00 to 2024-09-16 01:15:00\n",
      "Fetched data from 2024-09-16 01:30:00 to 2024-09-21 06:15:00\n",
      "Fetched data from 2024-09-21 06:30:00 to 2024-09-26 11:15:00\n",
      "Fetched data from 2024-09-26 11:30:00 to 2024-10-01 16:15:00\n",
      "Fetched data from 2024-10-01 16:30:00 to 2024-10-06 21:15:00\n",
      "Fetched data from 2024-10-06 21:30:00 to 2024-10-12 02:15:00\n",
      "Fetched data from 2024-10-12 02:30:00 to 2024-10-17 07:15:00\n",
      "Fetched data from 2024-10-17 07:30:00 to 2024-10-22 12:15:00\n",
      "Fetched data from 2024-10-22 12:30:00 to 2024-10-27 17:15:00\n",
      "Fetched data from 2024-10-27 17:30:00 to 2024-11-01 22:15:00\n",
      "Fetched data from 2024-11-01 22:30:00 to 2024-11-07 03:15:00\n",
      "Fetched data from 2024-11-07 03:30:00 to 2024-11-12 08:15:00\n",
      "Fetched data from 2024-11-12 08:30:00 to 2024-11-17 13:15:00\n",
      "Fetched data from 2024-11-17 13:30:00 to 2024-11-22 18:15:00\n",
      "Fetched data from 2024-11-22 18:30:00 to 2024-11-27 23:15:00\n",
      "Fetched data from 2024-11-27 23:30:00 to 2024-12-03 04:15:00\n",
      "Fetched data from 2024-12-03 04:30:00 to 2024-12-08 09:15:00\n",
      "Fetched data from 2024-12-08 09:30:00 to 2024-12-13 14:15:00\n",
      "Fetched data from 2024-12-13 14:30:00 to 2024-12-18 19:15:00\n",
      "Fetched data from 2024-12-18 19:30:00 to 2024-12-24 00:15:00\n",
      "Fetched data from 2024-12-24 00:30:00 to 2024-12-29 05:15:00\n",
      "Fetched data from 2024-12-29 05:30:00 to 2024-12-30 23:45:00\n",
      "No more data within the specified range.\n",
      "Dataset saved to ../data/BTCUSDT_15m_v200k.csv\n"
     ]
    }
   ],
   "source": [
    "df = hp.fetch_data('BTCUSDT', '15m', '2019-01-01', '2024-12-31')\n",
    "hp.save_data(df, '../data/BTCUSDT_15m_v200k.csv')"
   ]
  },
  {
   "cell_type": "code",
   "execution_count": 2,
   "metadata": {},
   "outputs": [],
   "source": [
    "timeframe_filenames = {\n",
    "    \"1m\": \"../data/ETHUSDT_1m_v600k.csv\",\n",
    "    \"3m\": \"../data/ETHUSDT_3m_v600k.csv\",\n",
    "    \"5m\": \"../data/DOGEUSDT_5m_v0.csv\",\n",
    "    \"15m\": \"../data/DOGEUSDT_15m_v0.csv\",\n",
    "    \"30m\": \"../data/DOGEUSDT_30m_v0.csv\"\n",
    "}"
   ]
  },
  {
   "cell_type": "code",
   "execution_count": 21,
   "metadata": {},
   "outputs": [
    {
     "name": "stdout",
     "output_type": "stream",
     "text": [
      "Dataset loaded from ../data/ETHUSDT_3m_v600k.csv.\n",
      "Scalers dumped\n",
      "\u001b[1m110/110\u001b[0m \u001b[32m━━━━━━━━━━━━━━━━━━━━\u001b[0m\u001b[37m\u001b[0m \u001b[1m5s\u001b[0m 18ms/step - loss: 0.3984 - max_change_loss: 0.1870 - max_change_mae: 0.3237 - min_change_loss: 0.2114 - min_change_mae: 0.3459 - val_loss: 0.0279 - val_max_change_loss: 0.0118 - val_max_change_mae: 0.0625 - val_min_change_loss: 0.0160 - val_min_change_mae: 0.0867\n",
      "\u001b[1m110/110\u001b[0m \u001b[32m━━━━━━━━━━━━━━━━━━━━\u001b[0m\u001b[37m\u001b[0m \u001b[1m2s\u001b[0m 15ms/step - loss: 0.0468 - max_change_loss: 0.0197 - max_change_mae: 0.1083 - min_change_loss: 0.0270 - min_change_mae: 0.1235 - val_loss: 0.0151 - val_max_change_loss: 0.0035 - val_max_change_mae: 0.0385 - val_min_change_loss: 0.0114 - val_min_change_mae: 0.0521\n",
      "\u001b[1m110/110\u001b[0m \u001b[32m━━━━━━━━━━━━━━━━━━━━\u001b[0m\u001b[37m\u001b[0m \u001b[1m2s\u001b[0m 17ms/step - loss: 0.0242 - max_change_loss: 0.0102 - max_change_mae: 0.0730 - min_change_loss: 0.0141 - min_change_mae: 0.0865 - val_loss: 0.0088 - val_max_change_loss: 0.0024 - val_max_change_mae: 0.0333 - val_min_change_loss: 0.0062 - val_min_change_mae: 0.0493\n",
      "\u001b[1m110/110\u001b[0m \u001b[32m━━━━━━━━━━━━━━━━━━━━\u001b[0m\u001b[37m\u001b[0m \u001b[1m2s\u001b[0m 15ms/step - loss: 0.0195 - max_change_loss: 0.0075 - max_change_mae: 0.0588 - min_change_loss: 0.0120 - min_change_mae: 0.0769 - val_loss: 0.0065 - val_max_change_loss: 0.0021 - val_max_change_mae: 0.0329 - val_min_change_loss: 0.0044 - val_min_change_mae: 0.0439\n",
      "\u001b[1m110/110\u001b[0m \u001b[32m━━━━━━━━━━━━━━━━━━━━\u001b[0m\u001b[37m\u001b[0m \u001b[1m2s\u001b[0m 15ms/step - loss: 0.0149 - max_change_loss: 0.0051 - max_change_mae: 0.0519 - min_change_loss: 0.0098 - min_change_mae: 0.0682 - val_loss: 0.0068 - val_max_change_loss: 0.0023 - val_max_change_mae: 0.0305 - val_min_change_loss: 0.0044 - val_min_change_mae: 0.0432\n",
      "\u001b[1m110/110\u001b[0m \u001b[32m━━━━━━━━━━━━━━━━━━━━\u001b[0m\u001b[37m\u001b[0m \u001b[1m2s\u001b[0m 15ms/step - loss: 0.0139 - max_change_loss: 0.0051 - max_change_mae: 0.0474 - min_change_loss: 0.0087 - min_change_mae: 0.0638 - val_loss: 0.0110 - val_max_change_loss: 0.0035 - val_max_change_mae: 0.0311 - val_min_change_loss: 0.0073 - val_min_change_mae: 0.0519\n",
      "\u001b[1m110/110\u001b[0m \u001b[32m━━━━━━━━━━━━━━━━━━━━\u001b[0m\u001b[37m\u001b[0m \u001b[1m2s\u001b[0m 15ms/step - loss: 0.0111 - max_change_loss: 0.0040 - max_change_mae: 0.0437 - min_change_loss: 0.0070 - min_change_mae: 0.0591 - val_loss: 0.0067 - val_max_change_loss: 0.0019 - val_max_change_mae: 0.0327 - val_min_change_loss: 0.0048 - val_min_change_mae: 0.0463\n",
      "\u001b[1m110/110\u001b[0m \u001b[32m━━━━━━━━━━━━━━━━━━━━\u001b[0m\u001b[37m\u001b[0m \u001b[1m2s\u001b[0m 16ms/step - loss: 0.0137 - max_change_loss: 0.0036 - max_change_mae: 0.0419 - min_change_loss: 0.0100 - min_change_mae: 0.0613 - val_loss: 0.0123 - val_max_change_loss: 0.0054 - val_max_change_mae: 0.0467 - val_min_change_loss: 0.0069 - val_min_change_mae: 0.0505\n",
      "\u001b[1m110/110\u001b[0m \u001b[32m━━━━━━━━━━━━━━━━━━━━\u001b[0m\u001b[37m\u001b[0m \u001b[1m2s\u001b[0m 15ms/step - loss: 0.0113 - max_change_loss: 0.0040 - max_change_mae: 0.0417 - min_change_loss: 0.0073 - min_change_mae: 0.0575 - val_loss: 0.0096 - val_max_change_loss: 0.0039 - val_max_change_mae: 0.0317 - val_min_change_loss: 0.0056 - val_min_change_mae: 0.0467\n",
      "\u001b[1m110/110\u001b[0m \u001b[32m━━━━━━━━━━━━━━━━━━━━\u001b[0m\u001b[37m\u001b[0m \u001b[1m2s\u001b[0m 15ms/step - loss: 0.0099 - max_change_loss: 0.0033 - max_change_mae: 0.0385 - min_change_loss: 0.0065 - min_change_mae: 0.0548 - val_loss: 0.0124 - val_max_change_loss: 0.0037 - val_max_change_mae: 0.0439 - val_min_change_loss: 0.0086 - val_min_change_mae: 0.0537\n",
      "\u001b[1m110/110\u001b[0m \u001b[32m━━━━━━━━━━━━━━━━━━━━\u001b[0m\u001b[37m\u001b[0m \u001b[1m2s\u001b[0m 15ms/step - loss: 0.0117 - max_change_loss: 0.0038 - max_change_mae: 0.0406 - min_change_loss: 0.0079 - min_change_mae: 0.0593 - val_loss: 0.0100 - val_max_change_loss: 0.0029 - val_max_change_mae: 0.0339 - val_min_change_loss: 0.0071 - val_min_change_mae: 0.0503\n",
      "\u001b[1m110/110\u001b[0m \u001b[32m━━━━━━━━━━━━━━━━━━━━\u001b[0m\u001b[37m\u001b[0m \u001b[1m2s\u001b[0m 15ms/step - loss: 0.0111 - max_change_loss: 0.0039 - max_change_mae: 0.0397 - min_change_loss: 0.0072 - min_change_mae: 0.0574 - val_loss: 0.0072 - val_max_change_loss: 0.0021 - val_max_change_mae: 0.0304 - val_min_change_loss: 0.0051 - val_min_change_mae: 0.0474\n",
      "\u001b[1m110/110\u001b[0m \u001b[32m━━━━━━━━━━━━━━━━━━━━\u001b[0m\u001b[37m\u001b[0m \u001b[1m2s\u001b[0m 15ms/step - loss: 0.0098 - max_change_loss: 0.0033 - max_change_mae: 0.0369 - min_change_loss: 0.0065 - min_change_mae: 0.0542 - val_loss: 0.0125 - val_max_change_loss: 0.0032 - val_max_change_mae: 0.0341 - val_min_change_loss: 0.0093 - val_min_change_mae: 0.0481\n",
      "\u001b[1m110/110\u001b[0m \u001b[32m━━━━━━━━━━━━━━━━━━━━\u001b[0m\u001b[37m\u001b[0m \u001b[1m2s\u001b[0m 15ms/step - loss: 0.0111 - max_change_loss: 0.0040 - max_change_mae: 0.0397 - min_change_loss: 0.0071 - min_change_mae: 0.0555 - val_loss: 0.0119 - val_max_change_loss: 0.0056 - val_max_change_mae: 0.0361 - val_min_change_loss: 0.0062 - val_min_change_mae: 0.0490\n",
      "\u001b[1m110/110\u001b[0m \u001b[32m━━━━━━━━━━━━━━━━━━━━\u001b[0m\u001b[37m\u001b[0m \u001b[1m2s\u001b[0m 16ms/step - loss: 0.0118 - max_change_loss: 0.0046 - max_change_mae: 0.0411 - min_change_loss: 0.0072 - min_change_mae: 0.0554 - val_loss: 0.0103 - val_max_change_loss: 0.0052 - val_max_change_mae: 0.0367 - val_min_change_loss: 0.0051 - val_min_change_mae: 0.0502\n",
      "\u001b[1m110/110\u001b[0m \u001b[32m━━━━━━━━━━━━━━━━━━━━\u001b[0m\u001b[37m\u001b[0m \u001b[1m2s\u001b[0m 17ms/step - loss: 0.0113 - max_change_loss: 0.0040 - max_change_mae: 0.0398 - min_change_loss: 0.0072 - min_change_mae: 0.0572 - val_loss: 0.0101 - val_max_change_loss: 0.0033 - val_max_change_mae: 0.0365 - val_min_change_loss: 0.0072 - val_min_change_mae: 0.0512\n",
      "\u001b[1m110/110\u001b[0m \u001b[32m━━━━━━━━━━━━━━━━━━━━\u001b[0m\u001b[37m\u001b[0m \u001b[1m2s\u001b[0m 15ms/step - loss: 0.0107 - max_change_loss: 0.0041 - max_change_mae: 0.0412 - min_change_loss: 0.0066 - min_change_mae: 0.0529 - val_loss: 0.0092 - val_max_change_loss: 0.0033 - val_max_change_mae: 0.0351 - val_min_change_loss: 0.0061 - val_min_change_mae: 0.0473\n",
      "\u001b[1m110/110\u001b[0m \u001b[32m━━━━━━━━━━━━━━━━━━━━\u001b[0m\u001b[37m\u001b[0m \u001b[1m2s\u001b[0m 15ms/step - loss: 0.0128 - max_change_loss: 0.0040 - max_change_mae: 0.0396 - min_change_loss: 0.0088 - min_change_mae: 0.0558 - val_loss: 0.0092 - val_max_change_loss: 0.0035 - val_max_change_mae: 0.0330 - val_min_change_loss: 0.0057 - val_min_change_mae: 0.0581\n",
      "\u001b[1m110/110\u001b[0m \u001b[32m━━━━━━━━━━━━━━━━━━━━\u001b[0m\u001b[37m\u001b[0m \u001b[1m2s\u001b[0m 16ms/step - loss: 0.0109 - max_change_loss: 0.0042 - max_change_mae: 0.0402 - min_change_loss: 0.0067 - min_change_mae: 0.0549 - val_loss: 0.0091 - val_max_change_loss: 0.0027 - val_max_change_mae: 0.0330 - val_min_change_loss: 0.0065 - val_min_change_mae: 0.0504\n",
      "\u001b[1m110/110\u001b[0m \u001b[32m━━━━━━━━━━━━━━━━━━━━\u001b[0m\u001b[37m\u001b[0m \u001b[1m2s\u001b[0m 15ms/step - loss: 0.0106 - max_change_loss: 0.0040 - max_change_mae: 0.0395 - min_change_loss: 0.0065 - min_change_mae: 0.0531 - val_loss: 0.0107 - val_max_change_loss: 0.0036 - val_max_change_mae: 0.0372 - val_min_change_loss: 0.0069 - val_min_change_mae: 0.0500\n",
      "\u001b[1m110/110\u001b[0m \u001b[32m━━━━━━━━━━━━━━━━━━━━\u001b[0m\u001b[37m\u001b[0m \u001b[1m2s\u001b[0m 16ms/step - loss: 0.0096 - max_change_loss: 0.0033 - max_change_mae: 0.0372 - min_change_loss: 0.0064 - min_change_mae: 0.0529 - val_loss: 0.0125 - val_max_change_loss: 0.0029 - val_max_change_mae: 0.0317 - val_min_change_loss: 0.0096 - val_min_change_mae: 0.0523\n",
      "\u001b[1m110/110\u001b[0m \u001b[32m━━━━━━━━━━━━━━━━━━━━\u001b[0m\u001b[37m\u001b[0m \u001b[1m2s\u001b[0m 15ms/step - loss: 0.0097 - max_change_loss: 0.0033 - max_change_mae: 0.0371 - min_change_loss: 0.0064 - min_change_mae: 0.0524 - val_loss: 0.0124 - val_max_change_loss: 0.0024 - val_max_change_mae: 0.0300 - val_min_change_loss: 0.0109 - val_min_change_mae: 0.0547\n",
      "\u001b[1m110/110\u001b[0m \u001b[32m━━━━━━━━━━━━━━━━━━━━\u001b[0m\u001b[37m\u001b[0m \u001b[1m2s\u001b[0m 16ms/step - loss: 0.0116 - max_change_loss: 0.0032 - max_change_mae: 0.0362 - min_change_loss: 0.0085 - min_change_mae: 0.0554 - val_loss: 0.0089 - val_max_change_loss: 0.0021 - val_max_change_mae: 0.0305 - val_min_change_loss: 0.0069 - val_min_change_mae: 0.0497\n",
      "\u001b[1m110/110\u001b[0m \u001b[32m━━━━━━━━━━━━━━━━━━━━\u001b[0m\u001b[37m\u001b[0m \u001b[1m2s\u001b[0m 15ms/step - loss: 0.0105 - max_change_loss: 0.0033 - max_change_mae: 0.0363 - min_change_loss: 0.0072 - min_change_mae: 0.0538 - val_loss: 0.0106 - val_max_change_loss: 0.0034 - val_max_change_mae: 0.0314 - val_min_change_loss: 0.0075 - val_min_change_mae: 0.0484\n",
      "\u001b[1m110/110\u001b[0m \u001b[32m━━━━━━━━━━━━━━━━━━━━\u001b[0m\u001b[37m\u001b[0m \u001b[1m2s\u001b[0m 15ms/step - loss: 0.0119 - max_change_loss: 0.0030 - max_change_mae: 0.0351 - min_change_loss: 0.0089 - min_change_mae: 0.0571 - val_loss: 0.0080 - val_max_change_loss: 0.0026 - val_max_change_mae: 0.0338 - val_min_change_loss: 0.0053 - val_min_change_mae: 0.0460\n",
      "\u001b[1m110/110\u001b[0m \u001b[32m━━━━━━━━━━━━━━━━━━━━\u001b[0m\u001b[37m\u001b[0m \u001b[1m2s\u001b[0m 15ms/step - loss: 0.0108 - max_change_loss: 0.0029 - max_change_mae: 0.0349 - min_change_loss: 0.0080 - min_change_mae: 0.0540 - val_loss: 0.0098 - val_max_change_loss: 0.0025 - val_max_change_mae: 0.0309 - val_min_change_loss: 0.0075 - val_min_change_mae: 0.0486\n",
      "\u001b[1m110/110\u001b[0m \u001b[32m━━━━━━━━━━━━━━━━━━━━\u001b[0m\u001b[37m\u001b[0m \u001b[1m2s\u001b[0m 16ms/step - loss: 0.0113 - max_change_loss: 0.0032 - max_change_mae: 0.0355 - min_change_loss: 0.0081 - min_change_mae: 0.0555 - val_loss: 0.0105 - val_max_change_loss: 0.0036 - val_max_change_mae: 0.0378 - val_min_change_loss: 0.0067 - val_min_change_mae: 0.0494\n",
      "\u001b[1m110/110\u001b[0m \u001b[32m━━━━━━━━━━━━━━━━━━━━\u001b[0m\u001b[37m\u001b[0m \u001b[1m2s\u001b[0m 15ms/step - loss: 0.0108 - max_change_loss: 0.0031 - max_change_mae: 0.0363 - min_change_loss: 0.0076 - min_change_mae: 0.0548 - val_loss: 0.0086 - val_max_change_loss: 0.0031 - val_max_change_mae: 0.0357 - val_min_change_loss: 0.0054 - val_min_change_mae: 0.0477\n",
      "\u001b[1m110/110\u001b[0m \u001b[32m━━━━━━━━━━━━━━━━━━━━\u001b[0m\u001b[37m\u001b[0m \u001b[1m2s\u001b[0m 15ms/step - loss: 0.0099 - max_change_loss: 0.0028 - max_change_mae: 0.0350 - min_change_loss: 0.0071 - min_change_mae: 0.0545 - val_loss: 0.0101 - val_max_change_loss: 0.0027 - val_max_change_mae: 0.0359 - val_min_change_loss: 0.0073 - val_min_change_mae: 0.0546\n",
      "\u001b[1m110/110\u001b[0m \u001b[32m━━━━━━━━━━━━━━━━━━━━\u001b[0m\u001b[37m\u001b[0m \u001b[1m2s\u001b[0m 16ms/step - loss: 0.0093 - max_change_loss: 0.0031 - max_change_mae: 0.0356 - min_change_loss: 0.0062 - min_change_mae: 0.0495 - val_loss: 0.0098 - val_max_change_loss: 0.0019 - val_max_change_mae: 0.0297 - val_min_change_loss: 0.0079 - val_min_change_mae: 0.0474\n",
      "\u001b[1m110/110\u001b[0m \u001b[32m━━━━━━━━━━━━━━━━━━━━\u001b[0m\u001b[37m\u001b[0m \u001b[1m2s\u001b[0m 15ms/step - loss: 0.0096 - max_change_loss: 0.0028 - max_change_mae: 0.0350 - min_change_loss: 0.0067 - min_change_mae: 0.0528 - val_loss: 0.0110 - val_max_change_loss: 0.0032 - val_max_change_mae: 0.0355 - val_min_change_loss: 0.0078 - val_min_change_mae: 0.0537\n",
      "\u001b[1m110/110\u001b[0m \u001b[32m━━━━━━━━━━━━━━━━━━━━\u001b[0m\u001b[37m\u001b[0m \u001b[1m2s\u001b[0m 15ms/step - loss: 0.0094 - max_change_loss: 0.0028 - max_change_mae: 0.0353 - min_change_loss: 0.0066 - min_change_mae: 0.0529 - val_loss: 0.0073 - val_max_change_loss: 0.0028 - val_max_change_mae: 0.0325 - val_min_change_loss: 0.0044 - val_min_change_mae: 0.0490\n",
      "\u001b[1m110/110\u001b[0m \u001b[32m━━━━━━━━━━━━━━━━━━━━\u001b[0m\u001b[37m\u001b[0m \u001b[1m2s\u001b[0m 16ms/step - loss: 0.0097 - max_change_loss: 0.0031 - max_change_mae: 0.0347 - min_change_loss: 0.0066 - min_change_mae: 0.0512 - val_loss: 0.0093 - val_max_change_loss: 0.0041 - val_max_change_mae: 0.0356 - val_min_change_loss: 0.0052 - val_min_change_mae: 0.0469\n",
      "\u001b[1m110/110\u001b[0m \u001b[32m━━━━━━━━━━━━━━━━━━━━\u001b[0m\u001b[37m\u001b[0m \u001b[1m2s\u001b[0m 16ms/step - loss: 0.0108 - max_change_loss: 0.0029 - max_change_mae: 0.0352 - min_change_loss: 0.0078 - min_change_mae: 0.0549 - val_loss: 0.0087 - val_max_change_loss: 0.0019 - val_max_change_mae: 0.0300 - val_min_change_loss: 0.0067 - val_min_change_mae: 0.0456\n",
      "\u001b[1m110/110\u001b[0m \u001b[32m━━━━━━━━━━━━━━━━━━━━\u001b[0m\u001b[37m\u001b[0m \u001b[1m2s\u001b[0m 16ms/step - loss: 0.0101 - max_change_loss: 0.0028 - max_change_mae: 0.0336 - min_change_loss: 0.0073 - min_change_mae: 0.0521 - val_loss: 0.0082 - val_max_change_loss: 0.0022 - val_max_change_mae: 0.0301 - val_min_change_loss: 0.0059 - val_min_change_mae: 0.0462\n",
      "\u001b[1m110/110\u001b[0m \u001b[32m━━━━━━━━━━━━━━━━━━━━\u001b[0m\u001b[37m\u001b[0m \u001b[1m2s\u001b[0m 16ms/step - loss: 0.0092 - max_change_loss: 0.0028 - max_change_mae: 0.0340 - min_change_loss: 0.0064 - min_change_mae: 0.0507 - val_loss: 0.0060 - val_max_change_loss: 0.0024 - val_max_change_mae: 0.0310 - val_min_change_loss: 0.0037 - val_min_change_mae: 0.0414\n",
      "\u001b[1m110/110\u001b[0m \u001b[32m━━━━━━━━━━━━━━━━━━━━\u001b[0m\u001b[37m\u001b[0m \u001b[1m2s\u001b[0m 16ms/step - loss: 0.0096 - max_change_loss: 0.0032 - max_change_mae: 0.0354 - min_change_loss: 0.0065 - min_change_mae: 0.0503 - val_loss: 0.0125 - val_max_change_loss: 0.0053 - val_max_change_mae: 0.0370 - val_min_change_loss: 0.0074 - val_min_change_mae: 0.0555\n",
      "\u001b[1m110/110\u001b[0m \u001b[32m━━━━━━━━━━━━━━━━━━━━\u001b[0m\u001b[37m\u001b[0m \u001b[1m2s\u001b[0m 16ms/step - loss: 0.0083 - max_change_loss: 0.0029 - max_change_mae: 0.0346 - min_change_loss: 0.0054 - min_change_mae: 0.0493 - val_loss: 0.0096 - val_max_change_loss: 0.0026 - val_max_change_mae: 0.0318 - val_min_change_loss: 0.0068 - val_min_change_mae: 0.0505\n",
      "\u001b[1m110/110\u001b[0m \u001b[32m━━━━━━━━━━━━━━━━━━━━\u001b[0m\u001b[37m\u001b[0m \u001b[1m2s\u001b[0m 16ms/step - loss: 0.0087 - max_change_loss: 0.0029 - max_change_mae: 0.0338 - min_change_loss: 0.0057 - min_change_mae: 0.0488 - val_loss: 0.0103 - val_max_change_loss: 0.0037 - val_max_change_mae: 0.0365 - val_min_change_loss: 0.0065 - val_min_change_mae: 0.0631\n",
      "\u001b[1m110/110\u001b[0m \u001b[32m━━━━━━━━━━━━━━━━━━━━\u001b[0m\u001b[37m\u001b[0m \u001b[1m2s\u001b[0m 16ms/step - loss: 0.0110 - max_change_loss: 0.0033 - max_change_mae: 0.0361 - min_change_loss: 0.0077 - min_change_mae: 0.0568 - val_loss: 0.0089 - val_max_change_loss: 0.0028 - val_max_change_mae: 0.0326 - val_min_change_loss: 0.0061 - val_min_change_mae: 0.0475\n",
      "\u001b[1m110/110\u001b[0m \u001b[32m━━━━━━━━━━━━━━━━━━━━\u001b[0m\u001b[37m\u001b[0m \u001b[1m2s\u001b[0m 15ms/step - loss: 0.0091 - max_change_loss: 0.0032 - max_change_mae: 0.0366 - min_change_loss: 0.0060 - min_change_mae: 0.0514 - val_loss: 0.0072 - val_max_change_loss: 0.0035 - val_max_change_mae: 0.0349 - val_min_change_loss: 0.0038 - val_min_change_mae: 0.0445\n",
      "\u001b[1m110/110\u001b[0m \u001b[32m━━━━━━━━━━━━━━━━━━━━\u001b[0m\u001b[37m\u001b[0m \u001b[1m2s\u001b[0m 16ms/step - loss: 0.0090 - max_change_loss: 0.0027 - max_change_mae: 0.0339 - min_change_loss: 0.0062 - min_change_mae: 0.0512 - val_loss: 0.0100 - val_max_change_loss: 0.0029 - val_max_change_mae: 0.0317 - val_min_change_loss: 0.0071 - val_min_change_mae: 0.0514\n",
      "Reached end of data, stopping training.\n"
     ]
    }
   ],
   "source": [
    "\n",
    "\n",
    "params = {'lstm_units_1': 128, 'lstm_units_2': 128, 'dropout': 0.5, 'learning_rate': 0.0009559214238176964, 'batch_size': 32, 'dense_units': 16, 'sequence_length': 10, 'gradient_clipping': 2.0, 'optimizer': 'adam', 'activation': 'tanh', 'num_indicators': 6, 'scaler_type': 'RobustScaler',\n",
    "'timeframe': '3m', 'window_size': 80, 'look_ahead_size': 20, 'window_shift': 20, 'epochs': 50, \"train_size\": 3000, \"val_size\": 500, \"step_size\": 500, 'shuffle': True}\n",
    "\n",
    "model_df, test_df = md.load_model_test_split(timeframe_filenames, params)\n",
    "model = md.custom_model(model_df, params, model_name='ethusdt_3m_v600k_v2')"
   ]
  },
  {
   "cell_type": "code",
   "execution_count": 22,
   "metadata": {},
   "outputs": [
    {
     "name": "stdout",
     "output_type": "stream",
     "text": [
      "Model saved to ../models/ethusdt_3m_v600k_v2\n",
      "Test data dumped\n"
     ]
    }
   ],
   "source": [
    "hp.save_model(model, params, model_name='ethusdt_3m_v600k_v2')\n",
    "norm_X_test, norm_y_test, y_scaler = md.test_data(test_df, params, model_name='ethusdt_3m_v600k_v2')"
   ]
  },
  {
   "cell_type": "code",
   "execution_count": 23,
   "metadata": {},
   "outputs": [
    {
     "name": "stdout",
     "output_type": "stream",
     "text": [
      "Model loaded from ../models/ethusdt_3m_v600k_v1\n"
     ]
    }
   ],
   "source": [
    "model, params, scaler_X, scaler_y, X_normTest, y_normTest, y_realTest = hp.load_model(model_name='ethusdt_3m_v600k_v1')"
   ]
  },
  {
   "cell_type": "code",
   "execution_count": 18,
   "metadata": {},
   "outputs": [
    {
     "ename": "ValueError",
     "evalue": "Data cardinality is ambiguous. Make sure all arrays contain the same number of samples.'x' sizes: 6055\n'y' sizes: 6056, 6056\n",
     "output_type": "error",
     "traceback": [
      "\u001b[0;31m---------------------------------------------------------------------------\u001b[0m",
      "\u001b[0;31mValueError\u001b[0m                                Traceback (most recent call last)",
      "Cell \u001b[0;32mIn[18], line 5\u001b[0m\n\u001b[1;32m      3\u001b[0m y_max_test \u001b[38;5;241m=\u001b[39m np\u001b[38;5;241m.\u001b[39marray([y[\u001b[38;5;241m0\u001b[39m] \u001b[38;5;28;01mfor\u001b[39;00m y \u001b[38;5;129;01min\u001b[39;00m norm_y_test])\n\u001b[1;32m      4\u001b[0m y_min_test \u001b[38;5;241m=\u001b[39m np\u001b[38;5;241m.\u001b[39marray([y[\u001b[38;5;241m1\u001b[39m] \u001b[38;5;28;01mfor\u001b[39;00m y \u001b[38;5;129;01min\u001b[39;00m norm_y_test])\n\u001b[0;32m----> 5\u001b[0m test_loss, test_mae \u001b[38;5;241m=\u001b[39m \u001b[43mmodel\u001b[49m\u001b[38;5;241;43m.\u001b[39;49m\u001b[43mevaluate\u001b[49m\u001b[43m(\u001b[49m\u001b[43mX_normTest\u001b[49m\u001b[43m,\u001b[49m\u001b[43m \u001b[49m\u001b[43m[\u001b[49m\u001b[43my_max_test\u001b[49m\u001b[43m,\u001b[49m\u001b[43m \u001b[49m\u001b[43my_min_test\u001b[49m\u001b[43m]\u001b[49m\u001b[43m,\u001b[49m\u001b[43m \u001b[49m\u001b[43mverbose\u001b[49m\u001b[38;5;241;43m=\u001b[39;49m\u001b[38;5;241;43m1\u001b[39;49m\u001b[43m)\u001b[49m\n\u001b[1;32m      6\u001b[0m \u001b[38;5;28mprint\u001b[39m(\u001b[38;5;124mf\u001b[39m\u001b[38;5;124m'\u001b[39m\u001b[38;5;124mTest loss: \u001b[39m\u001b[38;5;132;01m{\u001b[39;00mtest_loss\u001b[38;5;132;01m}\u001b[39;00m\u001b[38;5;124m, Test MAE: \u001b[39m\u001b[38;5;132;01m{\u001b[39;00mtest_mae\u001b[38;5;132;01m}\u001b[39;00m\u001b[38;5;124m'\u001b[39m)\n",
      "File \u001b[0;32m~/Projects/CryptoModeler/.venv/lib/python3.10/site-packages/keras/src/utils/traceback_utils.py:122\u001b[0m, in \u001b[0;36mfilter_traceback.<locals>.error_handler\u001b[0;34m(*args, **kwargs)\u001b[0m\n\u001b[1;32m    119\u001b[0m     filtered_tb \u001b[38;5;241m=\u001b[39m _process_traceback_frames(e\u001b[38;5;241m.\u001b[39m__traceback__)\n\u001b[1;32m    120\u001b[0m     \u001b[38;5;66;03m# To get the full stack trace, call:\u001b[39;00m\n\u001b[1;32m    121\u001b[0m     \u001b[38;5;66;03m# `keras.config.disable_traceback_filtering()`\u001b[39;00m\n\u001b[0;32m--> 122\u001b[0m     \u001b[38;5;28;01mraise\u001b[39;00m e\u001b[38;5;241m.\u001b[39mwith_traceback(filtered_tb) \u001b[38;5;28;01mfrom\u001b[39;00m \u001b[38;5;28;01mNone\u001b[39;00m\n\u001b[1;32m    123\u001b[0m \u001b[38;5;28;01mfinally\u001b[39;00m:\n\u001b[1;32m    124\u001b[0m     \u001b[38;5;28;01mdel\u001b[39;00m filtered_tb\n",
      "File \u001b[0;32m~/Projects/CryptoModeler/.venv/lib/python3.10/site-packages/keras/src/trainers/data_adapters/data_adapter_utils.py:114\u001b[0m, in \u001b[0;36mcheck_data_cardinality\u001b[0;34m(data)\u001b[0m\n\u001b[1;32m    110\u001b[0m     sizes \u001b[38;5;241m=\u001b[39m \u001b[38;5;124m\"\u001b[39m\u001b[38;5;124m, \u001b[39m\u001b[38;5;124m\"\u001b[39m\u001b[38;5;241m.\u001b[39mjoin(\n\u001b[1;32m    111\u001b[0m         \u001b[38;5;28mstr\u001b[39m(i\u001b[38;5;241m.\u001b[39mshape[\u001b[38;5;241m0\u001b[39m]) \u001b[38;5;28;01mfor\u001b[39;00m i \u001b[38;5;129;01min\u001b[39;00m tree\u001b[38;5;241m.\u001b[39mflatten(single_data)\n\u001b[1;32m    112\u001b[0m     )\n\u001b[1;32m    113\u001b[0m     msg \u001b[38;5;241m+\u001b[39m\u001b[38;5;241m=\u001b[39m \u001b[38;5;124mf\u001b[39m\u001b[38;5;124m\"\u001b[39m\u001b[38;5;124m'\u001b[39m\u001b[38;5;132;01m{\u001b[39;00mlabel\u001b[38;5;132;01m}\u001b[39;00m\u001b[38;5;124m'\u001b[39m\u001b[38;5;124m sizes: \u001b[39m\u001b[38;5;132;01m{\u001b[39;00msizes\u001b[38;5;132;01m}\u001b[39;00m\u001b[38;5;130;01m\\n\u001b[39;00m\u001b[38;5;124m\"\u001b[39m\n\u001b[0;32m--> 114\u001b[0m \u001b[38;5;28;01mraise\u001b[39;00m \u001b[38;5;167;01mValueError\u001b[39;00m(msg)\n",
      "\u001b[0;31mValueError\u001b[0m: Data cardinality is ambiguous. Make sure all arrays contain the same number of samples.'x' sizes: 6055\n'y' sizes: 6056, 6056\n"
     ]
    }
   ],
   "source": [
    "model.compile(optimizer=params['optimizer'], loss='mean_squared_error', metrics=['mae'])\n",
    "\n",
    "y_max_test = np.array([y[0] for y in norm_y_test])\n",
    "y_min_test = np.array([y[1] for y in norm_y_test])\n",
    "test_loss, test_mae = model.evaluate(X_normTest, [y_max_test, y_min_test], verbose=1)\n",
    "print(f'Test loss: {test_loss}, Test MAE: {test_mae}')"
   ]
  },
  {
   "cell_type": "code",
   "execution_count": 24,
   "metadata": {},
   "outputs": [
    {
     "name": "stdout",
     "output_type": "stream",
     "text": [
      "\u001b[1m190/190\u001b[0m \u001b[32m━━━━━━━━━━━━━━━━━━━━\u001b[0m\u001b[37m\u001b[0m \u001b[1m1s\u001b[0m 6ms/step\n",
      "rmse_combined: 0.004857314345968464\n"
     ]
    }
   ],
   "source": [
    "\n",
    "y_pred = model.predict(X_normTest)\n",
    "\n",
    "y_pred = scaler_y.inverse_transform(y_pred)\n",
    "\n",
    "rmse_max = np.sqrt(mean_squared_error(y_realTest[:,0], y_pred[:,0]))\n",
    "rmse_min = np.sqrt(mean_squared_error(y_realTest[:,1], y_pred[:,1]))\n",
    "rmse_combined = (rmse_min + rmse_max) / 2\n",
    "\n",
    "print(f'rmse_combined: {rmse_combined}')"
   ]
  },
  {
   "cell_type": "code",
   "execution_count": 25,
   "metadata": {},
   "outputs": [
    {
     "data": {
      "image/png": "[encoded data removed]",
      "text/plain": [
       "<Figure size 640x480 with 1 Axes>"
      ]
     },
     "metadata": {},
     "output_type": "display_data"
    },
    {
     "data": {
      "image/png": "[encoded data removed]",
      "text/plain": [
       "<Figure size 640x480 with 1 Axes>"
      ]
     },
     "metadata": {},
     "output_type": "display_data"
    }
   ],
   "source": [
    "\n",
    "ev.distribution_plot(y_pred)\n",
    "ev.distribution_plot(y_realTest)\n"
   ]
  },
  {
   "cell_type": "code",
   "execution_count": 30,
   "metadata": {},
   "outputs": [
    {
     "data": {
      "text/plain": [
       "np.float32(0.013737178)"
      ]
     },
     "execution_count": 30,
     "metadata": {},
     "output_type": "execute_result"
    }
   ],
   "source": [
    "y_pred[:,0].max()"
   ]
  },
  {
   "cell_type": "code",
   "execution_count": 35,
   "metadata": {},
   "outputs": [
    {
     "data": {
      "text/plain": [
       "np.float64(-0.020184077529494113)"
      ]
     },
     "execution_count": 35,
     "metadata": {},
     "output_type": "execute_result"
    }
   ],
   "source": [
    "y_realTest[:,0].min()"
   ]
  },
  {
   "cell_type": "code",
   "execution_count": 42,
   "metadata": {},
   "outputs": [
    {
     "data": {
      "text/plain": [
       "np.float64(1.1723910171730516)"
      ]
     },
     "execution_count": 42,
     "metadata": {},
     "output_type": "execute_result"
    }
   ],
   "source": [
    "ev.calculate_percentage_above_threshold(y_realTest, .02)"
   ]
  },
  {
   "cell_type": "code",
   "execution_count": 64,
   "metadata": {},
   "outputs": [
    {
     "data": {
      "text/plain": [
       "np.float64(-0.4312601057110496)"
      ]
     },
     "execution_count": 64,
     "metadata": {},
     "output_type": "execute_result"
    }
   ],
   "source": [
    "ev.profit_simulation(y_pred, y_realTest, 0.011)"
   ]
  },
  {
   "cell_type": "code",
   "execution_count": 20,
   "metadata": {},
   "outputs": [
    {
     "data": {
      "text/plain": [
       "252.33333333333334"
      ]
     },
     "execution_count": 20,
     "metadata": {},
     "output_type": "execute_result"
    }
   ],
   "source": [
    "(len(y_realTest) * 20 * 3) / 60 /24"
   ]
  },
  {
   "cell_type": "code",
   "execution_count": null,
   "metadata": {},
   "outputs": [],
   "source": []
  }
 ],
 "metadata": {
  "kernelspec": {
   "display_name": ".venv",
   "language": "python",
   "name": "python3"
  },
  "language_info": {
   "codemirror_mode": {
    "name": "ipython",
    "version": 3
   },
   "file_extension": ".py",
   "mimetype": "text/x-python",
   "name": "python",
   "nbconvert_exporter": "python",
   "pygments_lexer": "ipython3",
   "version": "3.10.12"
  }
 },
 "nbformat": 4,
 "nbformat_minor": 2
}
